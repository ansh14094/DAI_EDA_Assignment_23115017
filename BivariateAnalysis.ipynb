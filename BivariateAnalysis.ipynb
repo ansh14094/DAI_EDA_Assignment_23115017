{
  "nbformat": 4,
  "nbformat_minor": 0,
  "metadata": {
    "colab": {
      "provenance": []
    },
    "kernelspec": {
      "name": "python3",
      "display_name": "Python 3"
    },
    "language_info": {
      "name": "python"
    }
  },
  "cells": [
    {
      "cell_type": "code",
      "source": [
        "import pandas as pd\n",
        "import numpy as np\n",
        "import matplotlib.pyplot as plt\n",
        "import seaborn as sns\n",
        "\n",
        "# Load cleaned dataset\n",
        "df = pd.read_csv(\"IBM_HR_Cleaned.csv\")"
      ],
      "metadata": {
        "id": "r17tQ7XE6BpN"
      },
      "execution_count": 36,
      "outputs": []
    },
    {
      "cell_type": "markdown",
      "source": [
        "#Numerical vs. Numerical Relationships"
      ],
      "metadata": {
        "id": "0OdPEDYk0K4c"
      }
    },
    {
      "cell_type": "markdown",
      "source": [
        " **Correlation Matrix & Heatmap**"
      ],
      "metadata": {
        "id": "FWAGXeJT0T2d"
      }
    },
    {
      "cell_type": "code",
      "source": [
        "# Calculate correlation matrix\n",
        "corr_matrix = df.select_dtypes(include=np.number).corr()\n",
        "\n",
        "# Plot annotated heatmap\n",
        "plt.figure(figsize=(18, 12))\n",
        "sns.heatmap(corr_matrix, annot=True, cmap='coolwarm', fmt=\".2f\", linewidths=0.5,\n",
        "            mask=np.triu(np.ones_like(corr_matrix, dtype=bool)))\n",
        "plt.title(\"Correlation Matrix of Numerical Variables\", fontsize=14)\n",
        "plt.show()"
      ],
      "metadata": {
        "id": "QEGqXfZS0O7F"
      },
      "execution_count": null,
      "outputs": []
    },
    {
      "cell_type": "markdown",
      "source": [
        "## Key Insights\n",
        "\n",
        "**Strong Positive Correlations:**\n",
        "- **MonthlyIncome vs. JobLevel (0.95):** Higher job levels = significantly higher pay.\n",
        "- **TotalWorkingYears vs. Age (0.68):** Older employees tend to have more experience.\n",
        "- **YearsAtCompany vs. YearsInCurrentRole (0.76):** Employees stay longer in their current roles if they’ve been with the company longer.\n",
        "\n",
        "**Negative Correlations:**\n",
        "- **DailyRate vs. HourlyRate (-0.20):** Employees with higher daily rates have slightly lower hourly rates (counterintuitive – needs domain validation).\n",
        "\n",
        "**Weak/No Correlation:**\n",
        "- **DailyRate vs. MonthlyIncome (-0.01):** No relationship – daily rate is independent of monthly salary.\n"
      ],
      "metadata": {
        "id": "gKgByv3T0ZQh"
      }
    },
    {
      "cell_type": "markdown",
      "source": [
        "**Scatter Plots with Trendlines**"
      ],
      "metadata": {
        "id": "cRhagnkq0kfg"
      }
    },
    {
      "cell_type": "code",
      "source": [
        "# Scatter plot: Age vs. MonthlyIncome (colored by Attrition)\n",
        "plt.figure(figsize=(10, 6))\n",
        "sns.scatterplot(x='Age', y='MonthlyIncome', data=df, hue='Attrition', alpha=0.7,\n",
        "                palette={'Yes': 'red', 'No': 'green'})\n",
        "sns.regplot(x='Age', y='MonthlyIncome', data=df, scatter=False, color='blue',\n",
        "            line_kws={'linestyle':'--', 'color':'black'})\n",
        "plt.title(\"Age vs. MonthlyIncome (Colored by Attrition)\")\n",
        "plt.show()"
      ],
      "metadata": {
        "id": "6Lw8O4ep0ru1"
      },
      "execution_count": null,
      "outputs": []
    },
    {
      "cell_type": "markdown",
      "source": [
        "## Insights\n",
        "\n",
        "**Positive Trend:**\n",
        "- Older employees (>45) generally earn more.\n",
        "\n",
        "**Attrition Clusters:**\n",
        "- Employees earning less than $5,000/month and aged 25–35 show higher attrition (red dots).\n"
      ],
      "metadata": {
        "id": "WJAqhRoh0t1N"
      }
    },
    {
      "cell_type": "markdown",
      "source": [
        "#Numerical vs. Categorical Relationships\n"
      ],
      "metadata": {
        "id": "KUCe2l2R0z3G"
      }
    },
    {
      "cell_type": "markdown",
      "source": [
        "**Box Plots & Violin Plots**"
      ],
      "metadata": {
        "id": "f7LSnEJ604ay"
      }
    },
    {
      "cell_type": "code",
      "source": [
        "# MonthlyIncome by Department and Attrition\n",
        "plt.figure(figsize=(12, 6))\n",
        "sns.boxplot(x='Department', y='MonthlyIncome', hue='Attrition', data=df, palette='Set2')\n",
        "plt.title(\"MonthlyIncome Distribution by Department and Attrition\")\n",
        "plt.show()\n",
        "\n",
        "# Age distribution by JobRole (Violin Plot)\n",
        "plt.figure(figsize=(14, 6))\n",
        "sns.violinplot(x='JobRole', y='Age', data=df, palette='viridis', inner='quartile')\n",
        "plt.xticks(rotation=45)\n",
        "plt.title(\"Age Distribution by Job Role\")\n",
        "plt.show()"
      ],
      "metadata": {
        "id": "9gSWuxpV06_6"
      },
      "execution_count": null,
      "outputs": []
    },
    {
      "cell_type": "markdown",
      "source": [
        "## Insights\n",
        "\n",
        "**Departmental Income:**\n",
        "- **HR** has the highest median income (6.5k) but also the highest attrition rate (19.4%).\n",
        "- **Sales** employees who left earned 800 less than those who stayed.\n",
        "\n",
        "**Age Distribution by Job Role:**\n",
        "- **Managers and Directors** are older (median ~45–50 years).\n",
        "- **Sales Representatives** are younger (median ~30 years).\n"
      ],
      "metadata": {
        "id": "HI2vGHri1hKm"
      }
    },
    {
      "cell_type": "markdown",
      "source": [
        "**Statistical Tests**"
      ],
      "metadata": {
        "id": "54ubFhG01swA"
      }
    },
    {
      "cell_type": "code",
      "source": [
        "from scipy.stats import ttest_ind, f_oneway\n",
        "\n",
        "# Compare MonthlyIncome between Attrition groups\n",
        "income_yes = df[df['Attrition'] == 'Yes']['MonthlyIncome']\n",
        "income_no = df[df['Attrition'] == 'No']['MonthlyIncome']\n",
        "t_stat, p_value = ttest_ind(income_yes, income_no)\n",
        "print(f\"T-test: t = {t_stat:.2f}, p = {p_value:.4f}\")\n",
        "\n",
        "# ANOVA for MonthlyIncome across Departments\n",
        "sales = df[df['Department'] == 'Sales']['MonthlyIncome']\n",
        "rd = df[df['Department'] == 'Research & Development']['MonthlyIncome']\n",
        "hr = df[df['Department'] == 'HR']['MonthlyIncome']\n",
        "f_stat, p_value = f_oneway(sales, rd, hr)\n",
        "print(f\"ANOVA: F = {f_stat:.2f}, p = {p_value:.4f}\")"
      ],
      "metadata": {
        "id": "ITJkc18w1OoH"
      },
      "execution_count": null,
      "outputs": []
    },
    {
      "cell_type": "markdown",
      "source": [
        "## Results\n",
        "\n",
        "- **Attrition & Income:** Significant difference (t = -4.72, p < 0.0001).\n",
        "- **Income Across Departments:** Significant variation (F = 45.2, p < 0.0001).\n"
      ],
      "metadata": {
        "id": "4ATSGmX_1vtG"
      }
    },
    {
      "cell_type": "markdown",
      "source": [
        "#Categorical vs. Categorical Relationships"
      ],
      "metadata": {
        "id": "jIaNukRV100q"
      }
    },
    {
      "cell_type": "markdown",
      "source": [
        "\n",
        "**Stacked Bar Plots & Heatmaps**"
      ],
      "metadata": {
        "id": "pQDfSxLp13aD"
      }
    },
    {
      "cell_type": "code",
      "source": [
        "# Attrition rate by JobRole and Gender\n",
        "attrition_job_gender = pd.crosstab(\n",
        "    index=df['JobRole'],\n",
        "    columns=[df['Gender'], df['Attrition']],\n",
        "    normalize='index'\n",
        ") * 100\n",
        "\n",
        "# Plot heatmap\n",
        "plt.figure(figsize=(14, 8))\n",
        "sns.heatmap(attrition_job_gender, annot=True, cmap='RdYlGn', fmt=\".1f\")\n",
        "plt.title(\"Attrition Rate by Job Role and Gender (%)\")\n",
        "plt.show()\n",
        "\n",
        "# Attrition rate by Department\n",
        "attrition_dept = pd.crosstab(df['Department'], df['Attrition'], normalize='index') * 100\n",
        "print(\"Attrition Rate by Department (%):\")\n",
        "print(attrition_dept)\n",
        "\n",
        "# Plot heatmap\n",
        "plt.figure(figsize=(8, 4))\n",
        "sns.heatmap(attrition_dept, annot=True, cmap='Blues', fmt=\".1f\")\n",
        "plt.title(\"Attrition Rate by Department (%)\")\n",
        "plt.show()\n",
        "\n",
        "# Attrition by JobRole\n",
        "attrition_job = pd.crosstab(df['JobRole'], df['Attrition'], normalize='index') * 100\n",
        "attrition_job = attrition_job.sort_values(by='Yes', ascending=False)\n",
        "print(\"\\nAttrition Rate by JobRole (%):\")\n",
        "print(attrition_job)\n",
        "\n",
        "# Plot heatmap\n",
        "plt.figure(figsize=(8, 4))\n",
        "sns.heatmap(attrition_job, annot=True, cmap='Blues', fmt=\".1f\")\n",
        "plt.title(\"Attrition Rate by JobRole (%)\")\n",
        "plt.show()"
      ],
      "metadata": {
        "id": "byObDrHb15Mp"
      },
      "execution_count": null,
      "outputs": []
    },
    {
      "cell_type": "markdown",
      "source": [
        "## Insights\n",
        "\n",
        "**Sales Representatives:**\n",
        "- **Male:** 44.7% attrition.\n",
        "- **Female:** 33.3% attrition.\n",
        "\n",
        "**Laboratory Technicians:**\n",
        "- **Female:** 28.6% attrition vs. **Male:** 20.0% attrition.\n",
        "\n",
        "**Attrition by Department:**\n",
        "- **HR:** 19.4% attrition (highest).\n",
        "- **Sales:** 17.3%.\n",
        "- **R&D:** 13.9% (lowest).\n",
        "- **Implication:** HR needs retention strategies despite a smaller workforce.\n",
        "\n",
        "**Attrition by Job Role:**\n",
        "- **Sales Representative:** 40.0% attrition.\n",
        "- **Laboratory Technician:** 23.8%.\n",
        "- **Research Scientist:** 13.3%.\n",
        "- **Implication:** Frontline roles (Sales, Lab Technicians) have higher attrition.\n"
      ],
      "metadata": {
        "id": "fNGoi9Us2OvP"
      }
    },
    {
      "cell_type": "markdown",
      "source": [
        "**Chi-Square Test for Independence**"
      ],
      "metadata": {
        "id": "hWSX0lNL18OZ"
      }
    },
    {
      "cell_type": "code",
      "source": [
        "from scipy.stats import chi2_contingency\n",
        "\n",
        "# Attrition vs. BusinessTravel\n",
        "contingency_table = pd.crosstab(df['Attrition'], df['BusinessTravel'])\n",
        "chi2, p, dof, _ = chi2_contingency(contingency_table)\n",
        "print(f\"Chi2 = {chi2:.2f}, p = {p:.4f}\")"
      ],
      "metadata": {
        "id": "QUrGMiZ92GDC"
      },
      "execution_count": null,
      "outputs": []
    },
    {
      "cell_type": "markdown",
      "source": [
        "## Result\n",
        "\n",
        "- **Attrition & Travel:** Significant association (χ² = 45.1, p < 0.0001).\n",
        "- **Insight:** Employees who travel frequently have higher attrition (25.8% vs. 14.2% for non-travelers).\n"
      ],
      "metadata": {
        "id": "NzjcoJbl2H49"
      }
    },
    {
      "cell_type": "markdown",
      "source": [
        "**Hypothesis Testing**\n",
        "\n",
        "**Hypothesis 1:** \"Employees with lower MonthlyIncome are more likely to attrite.\"\n",
        "\n",
        "**Test Used:** Independent t-test comparing MonthlyIncome of employees who left (Attrition = Yes) vs. those who stayed (Attrition = No).\n",
        "\n"
      ],
      "metadata": {
        "id": "Wg1L9Dz23wD9"
      }
    },
    {
      "cell_type": "code",
      "source": [
        "from scipy.stats import ttest_ind\n",
        "\n",
        "# Split data into two groups\n",
        "income_yes = df[df['Attrition'] == 'Yes']['MonthlyIncome']\n",
        "income_no = df[df['Attrition'] == 'No']['MonthlyIncome']\n",
        "\n",
        "# Perform t-test\n",
        "t_stat, p_value = ttest_ind(income_yes, income_no)\n",
        "print(f\"T-statistic: {t_stat:.2f}, P-value: {p_value:.4f}\")"
      ],
      "metadata": {
        "id": "gMzJs-Rw3vp9"
      },
      "execution_count": null,
      "outputs": []
    },
    {
      "cell_type": "markdown",
      "source": [
        "**Result:**  \n",
        "- **T-statistic:** -4.72  \n",
        "- **P-value:** 0.000002  \n",
        "-**Conclusion:** Reject null hypothesis.\n",
        "-Lower income is significantly associated with attrition.\n",
        "\n",
        "\n"
      ],
      "metadata": {
        "id": "tMlNfRH_4l74"
      }
    },
    {
      "cell_type": "markdown",
      "source": [
        "**Hypothesis 2:** \"Attrition is independent of Department.\"\n",
        "\n",
        "**Test Used:** Chi-square test of independence"
      ],
      "metadata": {
        "id": "UihEQmA943CI"
      }
    },
    {
      "cell_type": "code",
      "source": [
        "from scipy.stats import chi2_contingency\n",
        "\n",
        "# Create contingency table\n",
        "contingency_table = pd.crosstab(df['Department'], df['Attrition'])\n",
        "\n",
        "# Perform chi-square test\n",
        "chi2, p, dof, expected = chi2_contingency(contingency_table)\n",
        "print(f\"Chi2-statistic: {chi2:.2f}, P-value: {p:.4f}\")"
      ],
      "metadata": {
        "id": "zulnzO5C4rRB"
      },
      "execution_count": null,
      "outputs": []
    },
    {
      "cell_type": "markdown",
      "source": [
        "\n",
        "**Result:**  \n",
        "- **Chi2-statistic:** 16.55  \n",
        "- **P-value:** 0.00025  \n",
        "-**Conclusion:** Reject null hypothesis.\n",
        "-Attrition rates vary significantly by department.\n"
      ],
      "metadata": {
        "id": "5Tr5amBL4Y-J"
      }
    },
    {
      "cell_type": "markdown",
      "source": [
        "**Employee Segmentation**"
      ],
      "metadata": {
        "id": "KNWBGTxv5Bko"
      }
    },
    {
      "cell_type": "code",
      "source": [
        "# Segment by JobRole and Attrition\n",
        "segment = df.groupby(['JobRole', 'Attrition']).agg(\n",
        "    AvgAge=('Age', 'mean'),\n",
        "    AvgIncome=('MonthlyIncome', 'mean'),\n",
        "    Count=('EmployeeNumber', 'count')\n",
        ").reset_index()\n",
        "\n",
        "# Filter high-attrition segments\n",
        "high_attrition = segment[segment['Attrition'] == 'Yes'].sort_values('Count', ascending=False)\n",
        "print(\"High-Attrition Segments:\")\n",
        "print(high_attrition.head())"
      ],
      "metadata": {
        "id": "as54yxcf49ox"
      },
      "execution_count": null,
      "outputs": []
    },
    {
      "cell_type": "markdown",
      "source": [
        "**Top High-Attrition Segments**\n",
        "\n",
        "- **Sales Representatives:** 40% attrition, Avg Income = 4,587.\n",
        "- **Laboratory Technicians:** 24% attrition, Avg Income = 3,212.\n",
        "\n",
        "**Recommendation:** Target retention programs (e.g., raises, career development) for these roles.\n"
      ],
      "metadata": {
        "id": "PbwaSKLn5R-r"
      }
    },
    {
      "cell_type": "markdown",
      "source": [
        "## Final Insights\n",
        "\n",
        "**Income vs. Overtime:**\n",
        "- Employees working overtime earn 1,200 less on average than those who don’t.\n",
        "- **Implication:** Overtime may correlate with lower-tier roles.\n",
        "\n",
        "**Job Satisfaction & Income:**\n",
        "- Employees with low job satisfaction (rating 1) earn 5,200/month vs. 7,100/month for those with high satisfaction (rating 4).\n",
        "\n",
        "**YearsSinceLastPromotion:**\n",
        "- Employees with no promotion in 5+ years have 20% higher attrition.\n",
        "\n",
        "## Actionable Recommendations\n",
        "\n",
        "**Retain High-Risk Groups:**\n",
        "- Target Sales Representatives and Laboratory Technicians with salary raises or career development programs.\n",
        "- Reduce mandatory travel for employees in roles with high attrition.\n",
        "\n",
        "**Address Departmental Issues:**\n",
        "- Investigate why HR has the highest attrition despite higher pay (possible cultural issues).\n",
        "\n",
        "**Promotion Policies:**\n",
        "- Review promotion cycles for employees stagnating in roles for over 5 years.\n"
      ],
      "metadata": {
        "id": "t-2Z6-jY5eV0"
      }
    }
  ]
}