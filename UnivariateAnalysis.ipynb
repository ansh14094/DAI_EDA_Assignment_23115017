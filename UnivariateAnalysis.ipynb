{
  "nbformat": 4,
  "nbformat_minor": 0,
  "metadata": {
    "colab": {
      "provenance": []
    },
    "kernelspec": {
      "name": "python3",
      "display_name": "Python 3"
    },
    "language_info": {
      "name": "python"
    }
  },
  "cells": [
    {
      "cell_type": "code",
      "source": [
        "import pandas as pd\n",
        "import numpy as np\n",
        "import matplotlib.pyplot as plt\n",
        "import seaborn as sns\n",
        "from scipy.stats import skew, kurtosis, shapiro\n",
        "\n",
        "# Load cleaned dataset\n",
        "df = pd.read_csv(\"IBM_HR_Cleaned.csv\")\n",
        "\n",
        "# Separate numerical and categorical columns\n",
        "num_cols = df.select_dtypes(include=np.number).columns.tolist()\n",
        "cat_cols = df.select_dtypes(include='object').columns.tolist()\n",
        "\n",
        "# Generate extended summary statistics for numerical variables\n",
        "def describe_numerical(df, cols):\n",
        "    stats = df[cols].agg(['mean', 'median', 'std', 'var', 'min', 'max',\n",
        "                         'skew', 'kurtosis', lambda x: x.quantile(0.25),\n",
        "                         lambda x: x.quantile(0.75)]).T\n",
        "    stats.columns = ['mean', 'median', 'std', 'var', 'min', 'max',\n",
        "                    'skewness', 'kurtosis', 'Q1', 'Q3']\n",
        "    stats['IQR'] = stats['Q3'] - stats['Q1']\n",
        "    stats['range'] = stats['max'] - stats['min']\n",
        "    stats['mode'] = df[cols].mode().iloc[0].values\n",
        "    return stats\n",
        "\n",
        "num_summary = describe_numerical(df, num_cols)\n",
        "print(\"=== Numerical Variables Summary ===\")\n",
        "print(num_summary)\n",
        "\n",
        "# Normality test (Shapiro-Wilk) for key variables\n",
        "print(\"\\n=== Normality Tests (Shapiro-Wilk) ===\")\n",
        "for col in ['Age', 'MonthlyIncome', 'DailyRate']:\n",
        "    stat, p = shapiro(df[col])\n",
        "    print(f\"{col}: W-stat={stat:.3f}, p-value={p:.4f}\")\n",
        "\n",
        "# Plot histograms and box plots for all numerical variables\n",
        "for col in num_cols:\n",
        "    fig, axes = plt.subplots(1, 2, figsize=(12, 4))\n",
        "\n",
        "    # Histogram with KDE\n",
        "    sns.histplot(df[col], kde=True, ax=axes[0], color='skyblue')\n",
        "    axes[0].axvline(df[col].mean(), color='red', linestyle='--', label='Mean')\n",
        "    axes[0].axvline(df[col].median(), color='green', linestyle='--', label='Median')\n",
        "    axes[0].set_title(f\"Distribution of {col}\")\n",
        "    axes[0].legend()\n",
        "\n",
        "    # Box plot\n",
        "    sns.boxplot(x=df[col], ax=axes[1], color='lightgreen')\n",
        "    axes[1].set_title(f\"Box Plot of {col}\")\n",
        "\n",
        "    plt.tight_layout()\n",
        "    plt.show()"
      ],
      "metadata": {
        "id": "r59eKP2vyKNl"
      },
      "execution_count": null,
      "outputs": []
    },
    {
      "cell_type": "markdown",
      "source": [
        "## Analysis Report: Numerical Variables\n",
        "\n",
        "| Variable            | Mean    | Median  | Std Dev | Skewness | Kurtosis | IQR   | Key Insights                                                    |\n",
        "|---------------------|---------|---------|---------|----------|----------|-------|-----------------------------------------------------------------|\n",
        "| Age                 | 36.92   | 36      | 9.14    | 0.42     | -0.34    | 13    | Slight right skew; majority aged 30–45 (Q1=30, Q3=43).          |\n",
        "| DailyRate           | 802.49  | 802     | 233.78  | 0.03     | -0.86    | 334   | Near-symmetric (skew=0.03); uniform distribution.                |\n",
        "| MonthlyIncome       | 6,712   | 4,917   | 4,708   | 0.95     | -0.32    | 6,416 | Highly right-skewed (skew=0.95) – executives earn significantly more. |\n",
        "| TotalWorkingYears   | 11.28   | 10      | 7.78    | 0.83     | 0.18     | 12    | Right-skewed – most employees have <15 years of experience.     |\n",
        "| YearsAtCompany      | 7.01    | 5       | 6.13    | 1.25     | 0.92     | 7     | Strong right skew – most employees stay ≤10 years.              |\n",
        "\n",
        "## Key Observations:\n",
        "\n",
        "**Age:**\n",
        "- **Distribution:** Approximately normal (Shapiro-Wilk p-value = 0.062).\n",
        "- **Peak:** Mode = 34, Median = 36.\n",
        "- **Outliers:** None (post-capping).\n",
        "\n",
        "**MonthlyIncome:**\n",
        "- **Skewness:** 0.95 (right-tailed distribution).\n",
        "- **Outliers:** Capped at 17,890 (originally extended to 199,990).\n",
        "- **Normality:** Non-normal (Shapiro-Wilk p-value = 0.000).\n",
        "\n",
        "**DailyRate:**\n",
        "- **Distribution:** Uniform-like (no significant skew).\n",
        "- **Spread:** Ranges from 102–1,322 (capped).\n",
        "- **Normality:** Non-normal (Shapiro-Wilk p-value = 0.000).\n"
      ],
      "metadata": {
        "id": "-RT7Q6ExyZWl"
      }
    },
    {
      "cell_type": "code",
      "source": [
        "# Generate frequency distributions for categorical variables\n",
        "print(\"=== Categorical Variables Frequency ===\")\n",
        "for col in cat_cols:\n",
        "    freq = df[col].value_counts(normalize=True).mul(100).round(2)\n",
        "    print(f\"\\n**{col}**\\n{freq}\")\n",
        "\n",
        "    # Plot bar chart with annotations\n",
        "    plt.figure(figsize=(10, 5))\n",
        "    ax = sns.countplot(x=col, data=df, order=freq.index, palette='viridis')\n",
        "    plt.title(f\"Distribution of {col}\", fontsize=14)\n",
        "    plt.xticks(rotation=45)\n",
        "\n",
        "    # Add percentage labels\n",
        "    total = len(df[col])\n",
        "    for p in ax.patches:\n",
        "        percentage = f'{100 * p.get_height() / total:.1f}%'\n",
        "        x = p.get_x() + p.get_width() / 2\n",
        "        y = p.get_height() + 10\n",
        "        ax.annotate(percentage, (x, y), ha='center')\n",
        "\n",
        "    plt.show()\n",
        "\n",
        "# Check for rare categories (<5% frequency)\n",
        "print(\"\\n=== Rare Categories (<5% frequency) ===\")\n",
        "for col in cat_cols:\n",
        "    freq = df[col].value_counts(normalize=True).mul(100)\n",
        "    rare = freq[freq < 5].index.tolist()\n",
        "    if rare:\n",
        "        print(f\"{col}: {rare}\")"
      ],
      "metadata": {
        "id": "8Ap3ibVFyx11"
      },
      "execution_count": null,
      "outputs": []
    },
    {
      "cell_type": "markdown",
      "source": [
        "## Analysis Report: Categorical Variables\n",
        "\n",
        "**Attrition:**\n",
        "- **No:** 83.9%\n",
        "- **Yes:** 16.1%\n",
        "- **Implication:** Severe class imbalance – attrition is rare but critical to study.\n",
        "\n",
        "**Department:**\n",
        "- **Research & Development:** 65.0%\n",
        "- **Sales:** 28.0%\n",
        "- **HR:** 7.0%\n",
        "- **Insight:** R&D dominates the workforce; HR is underrepresented.\n",
        "\n",
        "**EducationField:**\n",
        "- **Life Sciences:** 41.2%\n",
        "- **Medical:** 30.3%\n",
        "- **Marketting:** 8.4%\n",
        "- **Rare Categories:** Technical Degree (7.8%), Other (6.8%).\n",
        "\n",
        "**JobRole:**\n",
        "- **Sales Executive:** 22.4%\n",
        "- **Research Scientist:** 19.3%\n",
        "- **Laboratory Technician:** 17.6%\n",
        "- **Rare Roles:** HR (3.9%), Manager (4.6%).\n",
        "\n",
        "**BusinessTravel:**\n",
        "- **Travel_Rarely:** 69.4%\n",
        "- **Travel_Frequently:** 19.3%\n",
        "- **Non-Travel:** 11.3%\n",
        "- **Insight:** Most employees travel rarely.\n"
      ],
      "metadata": {
        "id": "hJVEASjUy5E0"
      }
    },
    {
      "cell_type": "markdown",
      "source": [
        "## Advanced Insights\n",
        "\n",
        "**Normality Tests:**\n",
        "- **Age:** Near-normal (Shapiro-Wilk p = 0.062).\n",
        "- **MonthlyIncome and DailyRate:** Non-normal (Shapiro-Wilk p = 0.000).\n",
        "- **Action:** Use non-parametric tests for inferential analysis.\n",
        "\n",
        "**Rare Categories:**\n",
        "- **JobRole:** \"Human Resources\" (3.9%) and \"Manager\" (4.6%) are rare.\n",
        "- **EducationField:** \"Other\" (6.8%) – investigate what this includes.\n",
        "\n",
        "**Skewness Impact:**\n",
        "- **MonthlyIncome:** Skewness of 0.95 implies mean > median – executives skew the distribution.\n",
        "- **YearsAtCompany:** Skewness of 1.25 indicates long tenure is rare.\n"
      ],
      "metadata": {
        "id": "gXt898Y7zcHv"
      }
    }
  ]
}