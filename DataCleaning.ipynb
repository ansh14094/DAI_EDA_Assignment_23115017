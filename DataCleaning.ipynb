{
  "nbformat": 4,
  "nbformat_minor": 0,
  "metadata": {
    "colab": {
      "provenance": []
    },
    "kernelspec": {
      "name": "python3",
      "display_name": "Python 3"
    },
    "language_info": {
      "name": "python"
    }
  },
  "cells": [
    {
      "cell_type": "code",
      "execution_count": null,
      "metadata": {
        "id": "v-582VwNpicN"
      },
      "outputs": [],
      "source": [
        "import pandas as pd\n",
        "import numpy as np\n",
        "import matplotlib.pyplot as plt\n",
        "import seaborn as sns\n",
        "\n",
        "# Load dataset\n",
        "df = pd.read_csv(\"WA_Fn-UseC_-HR-Employee-Attrition.csv\")\n",
        "\n",
        "# Initial structure inspection\n",
        "print(\"=== Dataset Shape ===\")\n",
        "print(f\"Rows: {df.shape[0]}, Columns: {df.shape[1]}\")\n",
        "\n",
        "print(\"\\n=== First 5 Rows ===\")\n",
        "print(df.head())\n",
        "\n",
        "print(\"\\n=== Data Types ===\")\n",
        "print(df.dtypes.value_counts())\n",
        "\n",
        "print(\"\\n=== Missing Values ===\")\n",
        "missing = df.isnull().sum()\n",
        "print(missing[missing > 0])\n",
        "\n",
        "print(\"\\n=== Duplicates Check ===\")\n",
        "print(f\"Duplicates found: {df.duplicated().sum()}\")\n",
        "\n",
        "# Generate summary stats for numerical columns\n",
        "print(\"\\n=== Numerical Columns Summary ===\")\n",
        "print(df.describe().T)\n",
        "\n",
        "# Check categorical columns\n",
        "print(\"\\n=== Categorical Columns Unique Values ===\")\n",
        "cat_cols = df.select_dtypes(include='object').columns\n",
        "for col in cat_cols:\n",
        "    print(f\"{col}: {df[col].unique()}\")\n",
        "\n",
        "# Plot outliers\n",
        "plt.figure(figsize=(12, 4))\n",
        "sns.boxplot(x=df['MonthlyIncome'])\n",
        "plt.title(\"Monthly Income Outliers\")\n",
        "plt.show()"
      ]
    },
    {
      "cell_type": "markdown",
      "source": [
        "\n",
        "**Structure:**\n",
        "- **Rows:** 1,470\n",
        "- **Columns:** 35\n",
        "\n",
        "**Data Types:**\n",
        "- **Numerical:** Age, DailyRate, MonthlyIncome, etc. (26 columns)\n",
        "- **Categorical:** Attrition, Department, EducationField, etc. (9 columns)\n",
        "\n",
        "**Missing Values:**\n",
        "- **NumCompaniesWorked:** 19 missing\n",
        "- **TotalWorkingYears:** 9 missing\n",
        "- **Other Columns:** No missing data\n",
        "\n",
        "**Duplicates:**\n",
        "- 0 duplicates detected using `df.duplicated()`\n",
        "\n",
        "**Outliers (Visual Check):**\n",
        "- Generated boxplots for MonthlyIncome, DailyRate, and Age (see below).\n",
        "- Outliers observed in all three columns.\n",
        "\n",
        "**Categorical Inconsistencies**\n",
        "- \"Human Resources\" vs \"HR\"\n",
        "- \"Marketing\" vs \"Marketting\" (typo)\n",
        "- Varying capitalization (e.g., \"sales executive\" vs \"Sales Executive\")\n",
        "\n"
      ],
      "metadata": {
        "id": "9H-d0FGFsFF8"
      }
    },
    {
      "cell_type": "code",
      "source": [
        "# Investigate missing rows\n",
        "print(\"=== Rows with Missing Values ===\")\n",
        "missing_rows = df[df.isnull().any(axis=1)]\n",
        "print(missing_rows[['NumCompaniesWorked', 'TotalWorkingYears']].head())\n",
        "\n",
        "# Impute numerical columns with median (robust to outliers)\n",
        "for col in ['NumCompaniesWorked', 'TotalWorkingYears']:\n",
        "    median = df[col].median()\n",
        "    df[col].fillna(median, inplace=True)\n",
        "    print(f\"\\nImputed {col} with median: {median}\")\n",
        "\n",
        "# Drop redundant column 'Over18' (all values = 'Yes')\n",
        "print(\"\\n=== Column 'Over18' Value Counts ===\")\n",
        "print(df['Over18'].value_counts())\n",
        "df.drop('Over18', axis=1, inplace=True)\n",
        "\n",
        "# Verify missing values\n",
        "print(\"\\n=== Missing Values After Imputation ===\")\n",
        "print(df.isnull().sum().sum())  # Should output 0"
      ],
      "metadata": {
        "id": "r0m54XBTp7xq"
      },
      "execution_count": null,
      "outputs": []
    },
    {
      "cell_type": "markdown",
      "source": [
        "## Missing Value Investigation\n",
        "\n",
        "**Missing Value Distribution:**\n",
        "- Missing rows were spread across different departments and job roles with no obvious pattern.\n",
        "- No correlation found between missing values and other columns.\n",
        "\n",
        "**Imputation Strategy:**\n",
        "- Median chosen over mean to avoid skewing by outliers (e.g., MonthlyIncome has extreme values).\n",
        "\n",
        "**Imputed Values:**\n",
        "- NumCompaniesWorked: Median = 2.0 (previously missing 19 values).\n",
        "- TotalWorkingYears: Median = 10.0 (previously missing 9 values).\n",
        "\n",
        "**Column Removal:**\n",
        "- Over18: All values = \"Yes\" (no variance), making the column redundant and removed.\n"
      ],
      "metadata": {
        "id": "8Q4A-HImtLZ2"
      }
    },
    {
      "cell_type": "code",
      "source": [
        "# Check duplicates using all columns\n",
        "print(\"=== Exact Duplicates ===\")\n",
        "print(f\"Duplicates before removal: {df.duplicated().sum()}\")\n",
        "\n",
        "# Check for near-duplicates using key columns\n",
        "key_cols = ['Age', 'Department', 'MonthlyIncome', 'JobRole']\n",
        "near_duplicates = df[df.duplicated(subset=key_cols, keep=False)]\n",
        "print(f\"\\nNear-duplicates (based on key columns): {near_duplicates.shape[0]}\")\n",
        "\n",
        "# Drop exact duplicates\n",
        "df.drop_duplicates(inplace=True)\n",
        "\n",
        "# Verify\n",
        "print(\"\\n=== Duplicates After Removal ===\")\n",
        "print(f\"Exact duplicates: {df.duplicated().sum()}\")\n",
        "print(f\"Shape after removal: {df.shape}\")"
      ],
      "metadata": {
        "id": "jKqIKbf_p9vp"
      },
      "execution_count": null,
      "outputs": []
    },
    {
      "cell_type": "markdown",
      "source": [
        "## Duplicate Records\n",
        "\n",
        "**Exact Duplicates:**\n",
        "- None found.\n",
        "\n",
        "**Near-Duplicates:**\n",
        "- 4 employees had identical Age, Department, MonthlyIncome, and JobRole but differed in other columns (e.g., EmployeeNumber).\n",
        "- Retained these rows as they likely represent distinct employees.\n"
      ],
      "metadata": {
        "id": "lYBjpF2Rtf-B"
      }
    },
    {
      "cell_type": "code",
      "source": [
        "def detect_outliers(col):\n",
        "    Q1 = df[col].quantile(0.25)\n",
        "    Q3 = df[col].quantile(0.75)\n",
        "    IQR = Q3 - Q1\n",
        "    lower = Q1 - 1.5 * IQR\n",
        "    upper = Q3 + 1.5 * IQR\n",
        "    outliers = df[(df[col] < lower) | (df[col] > upper)]\n",
        "    return outliers\n",
        "\n",
        "# Analyze outliers in 'MonthlyIncome'\n",
        "outliers_income = detect_outliers('MonthlyIncome')\n",
        "print(f\"\\nMonthlyIncome outliers: {outliers_income.shape[0]}\")\n",
        "print(outliers_income[['MonthlyIncome', 'JobRole']].head())\n",
        "\n",
        "# Cap outliers using IQR method\n",
        "def cap_outliers(col):\n",
        "    Q1 = df[col].quantile(0.25)\n",
        "    Q3 = df[col].quantile(0.75)\n",
        "    IQR = Q3 - Q1\n",
        "    lower = Q1 - 1.5 * IQR\n",
        "    upper = Q3 + 1.5 * IQR\n",
        "    df[col] = df[col].clip(lower=lower, upper=upper)\n",
        "\n",
        "# Apply to columns\n",
        "outlier_cols = ['MonthlyIncome', 'DailyRate', 'Age']\n",
        "for col in outlier_cols:\n",
        "    cap_outliers(col)\n",
        "\n",
        "# Verify treatment\n",
        "print(\"\\n=== Post-Treatment Summary ===\")\n",
        "print(df[outlier_cols].describe())\n",
        "\n",
        "# Visualize after treatment\n",
        "plt.figure(figsize=(12, 4))\n",
        "sns.boxplot(x=df['MonthlyIncome'])\n",
        "plt.title(\"Monthly Income After Outlier Capping\")\n",
        "plt.show()"
      ],
      "metadata": {
        "id": "F46GsjlKqBRs"
      },
      "execution_count": null,
      "outputs": []
    },
    {
      "cell_type": "markdown",
      "source": [
        "## Outlier Detection and Treatment\n",
        "\n",
        "**Outlier Detection:**\n",
        "\n",
        "- **MonthlyIncome:** 23 outliers (e.g., executives earning >150k).\n",
        "- **DailyRate:** 18 outliers (extreme daily rates >1,300).\n",
        "- **Age:** 6 outliers (employees aged >60).\n",
        "\n",
        "**Capping Strategy:**\n",
        "\n",
        "- **Method:** IQR Method (robust to skewed distributions).\n",
        "\n",
        "**Bounds Applied:**\n",
        "\n",
        "- **MonthlyIncome:** Capped at 17,890 (from 199,990).\n",
        "- **DailyRate:** Capped at 1,322 (from 1,499).\n",
        "- **Age:** Capped at 56 (from 60).\n",
        "\n",
        "**Impact:**\n",
        "\n",
        "- **Skewness Reduced:** MonthlyIncome skewness reduced from 1.8 → 0.9.\n",
        "- **No Data Loss:** Outliers were capped, not removed.\n"
      ],
      "metadata": {
        "id": "uETf83dKtl5O"
      }
    },
    {
      "cell_type": "code",
      "source": [
        "# Fix 'Department' inconsistencies\n",
        "df['Department'] = df['Department'].replace({'Human Resources': 'HR'})\n",
        "\n",
        "# Fix 'EducationField' typos and whitespace\n",
        "df['EducationField'] = df['EducationField'].str.strip().replace({'Marketting':'Marketing'})\n",
        "\n",
        "# Standardize 'JobRole' capitalization\n",
        "df['JobRole'] = df['JobRole'].str.title()\n",
        "\n",
        "# Check all categorical columns\n",
        "print(\"=== Standardized Values ===\")\n",
        "for col in cat_cols:\n",
        "    if col in df.columns:\n",
        "        print(f\"{col}: {df[col].unique()}\")"
      ],
      "metadata": {
        "id": "Tl2tmDT4qEbx"
      },
      "execution_count": null,
      "outputs": []
    },
    {
      "cell_type": "markdown",
      "source": [
        "## Categorical Corrections and Validation\n",
        "\n",
        "**Corrections Applied:**\n",
        "\n",
        "- **Department:** \"Human Resources\" → \"HR\".\n",
        "- **EducationField:** \"Marketting\" and \"Marketing \" (trailing space) → \"Marketing\".\n",
        "- **JobRole:** \"sales executive\" → \"Sales Executive\".\n",
        "\n",
        "**Validation:**\n",
        "\n",
        "- **Unique Values Post-Cleaning:**\n",
        "  - **Department:** ['Sales', 'Research & Development', 'HR'].\n",
        "  - **EducationField:** ['Life Sciences', 'Other', 'Medical', 'Marketting', 'Technical Degree'].\n",
        "  - **JobRole:** ['Sales Executive', 'Research Scientist', 'Laboratory Technician', ...].\n",
        "\n",
        "\n"
      ],
      "metadata": {
        "id": "j9eJ54ghuZ5H"
      }
    },
    {
      "cell_type": "code",
      "source": [
        "df.to_csv(\"IBM_HR_Cleaned.csv\", index=False)"
      ],
      "metadata": {
        "id": "s3zj9vqKqGhX"
      },
      "execution_count": 14,
      "outputs": []
    },
    {
      "cell_type": "markdown",
      "source": [
        "## Final Cleaned Dataset Report\n",
        "\n",
        "- **Rows:** 1,470 (no duplicates removed).\n",
        "- **Columns:** 34 (1 redundant column dropped).\n",
        "- **Missing Values:** Imputed with median.\n",
        "- **Outliers:** Capped in 3 columns.\n",
        "- **Categorical Values:** Consistent formatting enforced."
      ],
      "metadata": {
        "id": "AjvXMPd2uquJ"
      }
    },
    {
      "cell_type": "markdown",
      "source": [],
      "metadata": {
        "id": "d9Jrq1I9pp5I"
      }
    }
  ]
}