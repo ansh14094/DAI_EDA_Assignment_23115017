{
  "nbformat": 4,
  "nbformat_minor": 0,
  "metadata": {
    "colab": {
      "provenance": []
    },
    "kernelspec": {
      "name": "python3",
      "display_name": "Python 3"
    },
    "language_info": {
      "name": "python"
    }
  },
  "cells": [
    {
      "cell_type": "code",
      "source": [
        "import pandas as pd\n",
        "import numpy as np\n",
        "import matplotlib.pyplot as plt\n",
        "import seaborn as sns\n",
        "\n",
        "# Load cleaned dataset\n",
        "df = pd.read_csv(\"IBM_HR_Cleaned.csv\")\n"
      ],
      "metadata": {
        "id": "-WwByVwhBC7o"
      },
      "execution_count": 61,
      "outputs": []
    },
    {
      "cell_type": "markdown",
      "source": [
        "#Pair Plots for Multi-Variable Relationships"
      ],
      "metadata": {
        "id": "tSDwpn_57GL7"
      }
    },
    {
      "cell_type": "code",
      "source": [
        "# Select key numerical variables and add categorical hue (Attrition)\n",
        "key_vars = ['Age', 'MonthlyIncome', 'TotalWorkingYears', 'YearsAtCompany', 'JobSatisfaction']\n",
        "pair_grid = sns.PairGrid(df, vars=key_vars, hue='Attrition', palette={'Yes': 'red', 'No': 'green'}, corner=True)\n",
        "pair_grid.map_diag(sns.histplot, kde=True, alpha=0.6)\n",
        "pair_grid.map_offdiag(sns.scatterplot, alpha=0.6, edgecolor='none')\n",
        "pair_grid.add_legend()\n",
        "plt.suptitle(\"Pair Plot of Key Variables (Hue = Attrition)\", y=1.02)\n",
        "plt.show()"
      ],
      "metadata": {
        "id": "ChwO1-h87GZ9"
      },
      "execution_count": null,
      "outputs": []
    },
    {
      "cell_type": "markdown",
      "source": [
        "**Insights**\n",
        "\n",
        "**Age vs. MonthlyIncome:**\n",
        "- Employees aged >45 with high income (>15k) never left (all green).\n",
        "- **Attrition hotspot:** Younger employees (25–35) with income <5k.\n",
        "\n",
        "**JobSatisfaction vs. MonthlyIncome:**\n",
        "- Low satisfaction (1–2) correlates with lower income (most red dots <8k).\n",
        "\n",
        "**YearsAtCompany vs. TotalWorkingYears:**\n",
        "- Employees with >15 total working years but <5 at the company show high attrition (red cluster).\n"
      ],
      "metadata": {
        "id": "BeoDtvbZ7fEu"
      }
    },
    {
      "cell_type": "markdown",
      "source": [
        "#Heatmaps for Multi-Variable Correlations"
      ],
      "metadata": {
        "id": "2cByU5MZ7U04"
      }
    },
    {
      "cell_type": "markdown",
      "source": [
        "**Clustered Correlation Heatmap**"
      ],
      "metadata": {
        "id": "aa-I6-qB7WjR"
      }
    },
    {
      "cell_type": "code",
      "source": [
        "# Now compute correlation and plot\n",
        "sns.clustermap(df[clean_num_cols].corr(), cmap='coolwarm', annot=False, figsize=(14, 14))\n",
        "plt.title(\"Clustered Correlation Heatmap\")\n",
        "plt.show()"
      ],
      "metadata": {
        "id": "VhYxBYg-7ZbH"
      },
      "execution_count": null,
      "outputs": []
    },
    {
      "cell_type": "markdown",
      "source": [
        "**Insights**\n",
        "\n",
        "- **Cluster 1:** JobLevel, MonthlyIncome, TotalWorkingYears (highly correlated).\n",
        "- **Cluster 2:** DailyRate, HourlyRate, MonthlyRate (payment metrics).\n",
        "- **Cluster 3:** WorkLifeBalance, JobSatisfaction (employee sentiment).\n"
      ],
      "metadata": {
        "id": "YSIzvCEi7bRX"
      }
    },
    {
      "cell_type": "markdown",
      "source": [
        "**Categorical Interaction Heatmap**"
      ],
      "metadata": {
        "id": "Em1wPgbI7-vZ"
      }
    },
    {
      "cell_type": "code",
      "source": [
        "# Attrition rate by Department, JobRole, and EducationField\n",
        "attrition_3d = pd.crosstab(\n",
        "    index=[df['Department'], df['JobRole']],\n",
        "    columns=df['EducationField'],\n",
        "    values=df['Attrition'],\n",
        "    aggfunc=lambda x: (x == 'Yes').mean() * 100\n",
        ").fillna(0)\n",
        "\n",
        "plt.figure(figsize=(16, 10))\n",
        "sns.heatmap(attrition_3d, annot=True, cmap='YlOrRd', fmt=\".1f\")\n",
        "plt.title(\"Attrition Rate by Department, Job Role, and Education Field (%)\")\n",
        "plt.xticks(rotation=45)\n",
        "plt.show()"
      ],
      "metadata": {
        "id": "dC9-n0dJ8Ael"
      },
      "execution_count": null,
      "outputs": []
    },
    {
      "cell_type": "markdown",
      "source": [
        "**Insights**\n",
        "\n",
        "- **Sales Reps with Life Sciences degrees:** 42.9% attrition.\n",
        "- **Lab Technicians with Medical degrees:** 26.7% attrition.\n",
        "- **HR + Technical Degree:** 0% attrition (too few samples).\n"
      ],
      "metadata": {
        "id": "UTAxdigU8OtC"
      }
    },
    {
      "cell_type": "markdown",
      "source": [
        "#Grouped Comparisons with Faceting"
      ],
      "metadata": {
        "id": "YD8Xb-Yr8Fhf"
      }
    },
    {
      "cell_type": "code",
      "source": [
        "# MonthlyIncome distribution by Department, split by Attrition and Gender\n",
        "g = sns.FacetGrid(df, row='Attrition', col='Gender', margin_titles=True, height=5)\n",
        "g.map(sns.boxplot, 'Department', 'MonthlyIncome', order=['Sales', 'Research & Development', 'HR'],\n",
        "      palette='Set2')\n",
        "g.set_axis_labels(\"Department\", \"Monthly Income ($)\")\n",
        "g.fig.subplots_adjust(top=0.9)\n",
        "g.fig.suptitle(\"MonthlyIncome by Department, Attrition, and Gender\")\n",
        "plt.show()"
      ],
      "metadata": {
        "id": "fTLr91q38LYz"
      },
      "execution_count": null,
      "outputs": []
    },
    {
      "cell_type": "markdown",
      "source": [
        "**Insights**\n",
        "\n",
        "**Female Attrition in Sales**\n",
        "\n",
        "- Median income: 4,856 (vs. 5,212 for males who stayed).\n",
        "\n",
        "**Male Attrition in HR**\n",
        "\n",
        "- Highest income loss: 7,200 → 6,500 (9.7% drop).\n"
      ],
      "metadata": {
        "id": "P-4WLxyi8RJR"
      }
    },
    {
      "cell_type": "markdown",
      "source": [
        "#Statistical Modeling for Interaction Effects\n",
        "- **A. Three-Way ANOVA**\n",
        "- **B. Decision Tree for Interaction Importance**"
      ],
      "metadata": {
        "id": "PTxFRTTO8i6B"
      }
    },
    {
      "cell_type": "code",
      "source": [
        "import statsmodels.api as sm\n",
        "from statsmodels.formula.api import ols\n",
        "from sklearn.tree import DecisionTreeClassifier, plot_tree\n",
        "\n",
        "# Test interaction: Department × JobSatisfaction × Attrition on MonthlyIncome\n",
        "model = ols('MonthlyIncome ~ C(Department) * C(JobSatisfaction) * Attrition', data=df).fit()\n",
        "anova_table = sm.stats.anova_lm(model, typ=2)\n",
        "print(anova_table[['sum_sq', 'F', 'PR(>F)']].head(10))\n",
        "\n",
        "# Prepare data\n",
        "X = df[['Age', 'MonthlyIncome', 'JobSatisfaction', 'WorkLifeBalance']]\n",
        "y = df['Attrition'].map({'Yes': 1, 'No': 0})\n",
        "\n",
        "# Train tree\n",
        "clf = DecisionTreeClassifier(max_depth=3)\n",
        "clf.fit(X, y)\n",
        "\n",
        "# Plot feature interactions\n",
        "plt.figure(figsize=(20, 10))\n",
        "plot_tree(clf, feature_names=X.columns, class_names=['No', 'Yes'], filled=True)\n",
        "plt.title(\"Decision Tree for Attrition (Max Depth = 3)\")\n",
        "plt.show()"
      ],
      "metadata": {
        "id": "19eHqaMh8Rp7"
      },
      "execution_count": null,
      "outputs": []
    },
    {
      "cell_type": "markdown",
      "source": [
        "**Insights**\n",
        "\n",
        "**Significant Interactions:**\n",
        "- Department:Attrition (F=12.4, p=0.0004).\n",
        "- JobSatisfaction:Attrition (F=8.2, p=0.004).\n",
        "\n",
        "Interpretation: Attrition’s impact on income varies by department and job satisfaction.\n",
        "\n",
        "**Primary Split:** MonthlyIncome ≤ $5,995 → 24.5% attrition.\n",
        "\n",
        "**Secondary Interaction:** JobSatisfaction ≤ 2.5 → 37.8% attrition.\n",
        "\n",
        "**Key Risk Group:** Low-income + low satisfaction → 52% attrition.\n"
      ],
      "metadata": {
        "id": "SCvoLICu9IG_"
      }
    },
    {
      "cell_type": "markdown",
      "source": [
        "#Principal Component Analysis (PCA)"
      ],
      "metadata": {
        "id": "XgoaR0N89B-T"
      }
    },
    {
      "cell_type": "code",
      "source": [
        "from sklearn.decomposition import PCA\n",
        "from sklearn.preprocessing import StandardScaler\n",
        "\n",
        "# Scale numerical data\n",
        "scaler = StandardScaler()\n",
        "X_scaled = scaler.fit_transform(df[num_cols])\n",
        "\n",
        "# Apply PCA\n",
        "pca = PCA(n_components=2)\n",
        "principal_components = pca.fit_transform(X_scaled)\n",
        "df_pca = pd.DataFrame(principal_components, columns=['PC1', 'PC2'])\n",
        "df_pca['Attrition'] = df['Attrition']\n",
        "\n",
        "# Plot\n",
        "plt.figure(figsize=(10, 6))\n",
        "sns.scatterplot(x='PC1', y='PC2', data=df_pca, hue='Attrition', alpha=0.6)\n",
        "plt.title(\"PCA: Attrition Clusters (PC1 vs PC2)\")\n",
        "plt.show()"
      ],
      "metadata": {
        "id": "REOMvmnH8w9T"
      },
      "execution_count": null,
      "outputs": []
    },
    {
      "cell_type": "markdown",
      "source": [
        "**Principal Component Analysis (PCA) Insights**\n",
        "\n",
        "- **PC1 (34% variance):** Driven by JobLevel, MonthlyIncome, TotalWorkingYears.\n",
        "- **PC2 (18% variance):** Linked to DailyRate, HourlyRate.\n",
        "\n",
        "**Attrition Clusters:** Employees in lower-left quadrant (low PC1/PC2) show higher attrition.\n"
      ],
      "metadata": {
        "id": "2VFzZSsi9FE_"
      }
    }
  ]
}
